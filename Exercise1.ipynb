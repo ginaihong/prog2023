{
  "nbformat": 4,
  "nbformat_minor": 0,
  "metadata": {
    "colab": {
      "provenance": []
    },
    "kernelspec": {
      "name": "python3",
      "display_name": "Python 3"
    },
    "language_info": {
      "name": "python"
    }
  },
  "cells": [
    {
      "cell_type": "code",
      "source": [
        "# Write a function that takes two lists representing ses (with no duplicates) which returns a list of the intersection.\n",
        "\n",
        "# (use only loops and sequence indexing with no method calls except append).\n",
        "\n",
        "# Use a nested loop in your implementation. Teset on the list A = [2, 4, 5,6] and B = [4, 6, 7, 8].\n",
        "\n",
        "\n",
        "def intersection(A,B):\n",
        "    match = []\n",
        "    for x in A:\n",
        "        for y in B:\n",
        "            if x == y:\n",
        "                match.append(x)\n",
        "        return match\n",
        "\n",
        "intersection(A=[2, 4, 5, 6], B = [4,6,7,8])"
      ],
      "metadata": {
        "id": "EmxyLQ8xjtrN"
      },
      "execution_count": null,
      "outputs": []
    }
  ]
}