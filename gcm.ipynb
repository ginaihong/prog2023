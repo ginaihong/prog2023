{
  "nbformat": 4,
  "nbformat_minor": 0,
  "metadata": {
    "colab": {
      "provenance": []
    },
    "kernelspec": {
      "name": "python3",
      "display_name": "Python 3"
    },
    "language_info": {
      "name": "python"
    }
  },
  "cells": [
    {
      "cell_type": "code",
      "execution_count": 2,
      "metadata": {
        "id": "Sv4xzHp5dgON"
      },
      "outputs": [],
      "source": [
        "def gcd(a, b):\n",
        "  print(str(a)+\" \"+str(b)+\"\\n\")\n",
        "  if b == 0:\n",
        "    return a\n",
        "  else:\n",
        "    return gcd(b, (a % b))\n"
      ]
    },
    {
      "cell_type": "code",
      "source": [
        "gcd(1220, 516)"
      ],
      "metadata": {
        "id": "iySlus6Wdu9l",
        "outputId": "96d429ec-aaf9-48af-86f4-27deecbb30dd",
        "colab": {
          "base_uri": "https://localhost:8080/"
        }
      },
      "execution_count": 3,
      "outputs": [
        {
          "output_type": "stream",
          "name": "stdout",
          "text": [
            "1220 516\n",
            "\n",
            "516 188\n",
            "\n",
            "188 140\n",
            "\n",
            "140 48\n",
            "\n",
            "48 44\n",
            "\n",
            "44 4\n",
            "\n",
            "4 0\n",
            "\n"
          ]
        },
        {
          "output_type": "execute_result",
          "data": {
            "text/plain": [
              "4"
            ]
          },
          "metadata": {},
          "execution_count": 3
        }
      ]
    }
  ]
}